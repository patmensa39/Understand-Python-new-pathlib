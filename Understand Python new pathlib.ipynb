{
 "cells": [
  {
   "cell_type": "code",
   "execution_count": null,
   "metadata": {},
   "outputs": [],
   "source": [
    "from pathlib import Path"
   ]
  },
  {
   "cell_type": "code",
   "execution_count": null,
   "metadata": {},
   "outputs": [],
   "source": [
    "def print_directory_content():\n",
    "    entries = Path.cwd()\n",
    "    \n",
    "    for entry in entries.iterdir():\n",
    "        print(entry.name)\n",
    "        print(entry.parent)\n",
    "        print(entry.parent.parents)\n",
    "        print(entry.stem)\n",
    "        print(entry.suffix)\n",
    "        print(entry.stat()) \n",
    "        print()\n",
    "\n",
    "if __name__ == \"__main__\":\n",
    "    print_directory_content()"
   ]
  }
 ],
 "metadata": {
  "kernelspec": {
   "display_name": "Python 3",
   "language": "python",
   "name": "python3"
  },
  "language_info": {
   "codemirror_mode": {
    "name": "ipython",
    "version": 3
   },
   "file_extension": ".py",
   "mimetype": "text/x-python",
   "name": "python",
   "nbconvert_exporter": "python",
   "pygments_lexer": "ipython3",
   "version": "3.12.2"
  }
 },
 "nbformat": 4,
 "nbformat_minor": 2
}
